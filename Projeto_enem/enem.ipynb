{
 "cells": [
  {
   "cell_type": "code",
   "execution_count": 1,
   "metadata": {},
   "outputs": [],
   "source": [
    "import pandas as pd\n",
    "import numpy as np\n",
    "import zipfile\n",
    "import requests\n",
    "from io import BytesIO\n",
    "import os\n",
    "from sqlalchemy import create_engine\n",
    "import json"
   ]
  },
  {
   "cell_type": "code",
   "execution_count": 2,
   "metadata": {},
   "outputs": [],
   "source": [
    "# Cria o diretório\n",
    "os.makedirs('./enem2019', exist_ok=True)"
   ]
  },
  {
   "cell_type": "code",
   "execution_count": 3,
   "metadata": {},
   "outputs": [
    {
     "data": {
      "text/plain": [
       "\"\\n# Define a url\\nurl = 'http://download.inep.gov.br/microdados/microdados_enem_2019.zip'\\n\\n# Download do conteudo\\nfilebytes = BytesIO(\\n    requests.get(url).content\\n)\\n\\n# Extrarir o conteudo do zipfile\\nmyzip = zipfile.ZipFile(filebytes)\\nmyzip.extractall('./enem2019')\\n\""
      ]
     },
     "execution_count": 3,
     "metadata": {},
     "output_type": "execute_result"
    }
   ],
   "source": [
    "\"\"\"\n",
    "# Define a url\n",
    "url = 'http://download.inep.gov.br/microdados/microdados_enem_2019.zip'\n",
    "\n",
    "# Download do conteudo\n",
    "filebytes = BytesIO(\n",
    "    requests.get(url).content\n",
    ")\n",
    "\n",
    "# Extrarir o conteudo do zipfile\n",
    "myzip = zipfile.ZipFile(filebytes)\n",
    "myzip.extractall('./enem2019')\n",
    "\"\"\""
   ]
  },
  {
   "cell_type": "code",
   "execution_count": 4,
   "metadata": {},
   "outputs": [],
   "source": [
    "csv_file = './enem2019/DADOS/MICRODADOS_ENEM_2019.csv'"
   ]
  },
  {
   "cell_type": "code",
   "execution_count": 5,
   "metadata": {},
   "outputs": [],
   "source": [
    "number_lines = sum(1 for row in (open(csv_file, encoding='ISO-8859-1')))"
   ]
  },
  {
   "cell_type": "code",
   "execution_count": 6,
   "metadata": {},
   "outputs": [],
   "source": [
    "# FROM https://gist.github.com/jrivero/1085501\n",
    "\n",
    "def split(filehandler, delimiter=',', row_limit=1000,\n",
    "          output_name_template='output_%s.csv', output_path='.', keep_headers=True):\n",
    "    import csv\n",
    "    reader = csv.reader(filehandler, delimiter=delimiter)\n",
    "    current_piece = 1\n",
    "    current_out_path = os.path.join(\n",
    "        output_path,\n",
    "        output_name_template % current_piece\n",
    "    )\n",
    "    current_out_writer = csv.writer(open(current_out_path, 'w'), delimiter=delimiter)\n",
    "    current_limit = row_limit\n",
    "    if keep_headers:\n",
    "        headers = next(reader)\n",
    "        current_out_writer.writerow(headers)\n",
    "    for i, row in enumerate(reader):\n",
    "        if i + 1 > current_limit:\n",
    "            current_piece += 1\n",
    "            current_limit = row_limit * current_piece\n",
    "            current_out_path = os.path.join(\n",
    "                output_path,\n",
    "                output_name_template % current_piece\n",
    "            )\n",
    "            current_out_writer = csv.writer(open(current_out_path, 'w'), delimiter=delimiter)\n",
    "            if keep_headers:\n",
    "                current_out_writer.writerow(headers)\n",
    "        current_out_writer.writerow(row)"
   ]
  },
  {
   "cell_type": "code",
   "execution_count": 34,
   "metadata": {},
   "outputs": [],
   "source": [
    "split(open(csv_file, encoding='ISO-8859-1'), delimiter=';', row_limit=20000,\n",
    "     output_name_template='microdados_enem_%s.csv', output_path='./enem2019/DADOS/splitted_files', keep_headers=True)"
   ]
  },
  {
   "cell_type": "code",
   "execution_count": 7,
   "metadata": {},
   "outputs": [],
   "source": [
    "# Get access variables\n",
    "with open('vaccess_pg.txt') as access_file:\n",
    "    vaccess = json.load(access_file)"
   ]
  },
  {
   "cell_type": "code",
   "execution_count": 8,
   "metadata": {},
   "outputs": [],
   "source": [
    "# Create connection\n",
    "conn_str = 'postgresql+psycopg2://'+vaccess['user']+':'+vaccess['password']+'@'+vaccess['host:port']+'/'+vaccess['dbname']\n",
    "engine_pg = create_engine(conn_str)"
   ]
  },
  {
   "cell_type": "code",
   "execution_count": null,
   "metadata": {},
   "outputs": [],
   "source": [
    "directory = './enem2019/DADOS/splitted_files/'\n",
    "\n",
    "for filename in sorted(os.listdir(directory)):\n",
    "    print(filename)\n",
    "    if filename.endswith(\".csv\"):\n",
    "        enem = pd.read_csv(\n",
    "                directory+filename, sep = ';', decimal = '.', encoding='ISO-8859-1'\n",
    "        )\n",
    "        try:\n",
    "            enem.to_sql(\n",
    "                'enem',\n",
    "                engine_pg,\n",
    "                index=False,\n",
    "                chunksize=10000,\n",
    "                if_exists='append'\n",
    "            )\n",
    "        finally:\n",
    "            # Close connection\n",
    "            engine_pg.dispose()\n",
    "        continue\n",
    "    else:\n",
    "        continue"
   ]
  },
  {
   "cell_type": "code",
   "execution_count": null,
   "metadata": {},
   "outputs": [],
   "source": [
    "import psycopg2\n",
    "conn = psycopg2.connect(\"host=172.18.0.2 dbname=postgres user=postgres password=postgres\")\n",
    "cur = conn.cursor()\n",
    "\n",
    "\n",
    "directory = './enem2019/DADOS/splitted_files/'\n",
    "\n",
    "for filename in sorted(os.listdir(directory)):\n",
    "    print(filename)\n",
    "    if filename.endswith(\".csv\"):\n",
    "        enem = pd.read_csv(\n",
    "                directory+filename, sep = ';', decimal = '.', encoding='ISO-8859-1'\n",
    "        )\n",
    "        try:\n",
    "            with open(directory+filename, 'r') as f:\n",
    "                # Notice that we don't need the `csv` module.\n",
    "                next(f) # Skip the header row.\n",
    "                cur.copy_from(f, 'enem', sep=';', null=\"\")\n",
    "\n",
    "            conn.commit()\n",
    "        finally:\n",
    "            # Close connection\n",
    "            engine_pg.dispose()\n",
    "        continue\n",
    "    else:\n",
    "        continue"
   ]
  },
  {
   "cell_type": "code",
   "execution_count": null,
   "metadata": {},
   "outputs": [],
   "source": []
  }
 ],
 "metadata": {
  "kernelspec": {
   "display_name": "Python 3",
   "language": "python",
   "name": "python3"
  },
  "language_info": {
   "codemirror_mode": {
    "name": "ipython",
    "version": 3
   },
   "file_extension": ".py",
   "mimetype": "text/x-python",
   "name": "python",
   "nbconvert_exporter": "python",
   "pygments_lexer": "ipython3",
   "version": "3.8.3"
  }
 },
 "nbformat": 4,
 "nbformat_minor": 4
}
