{
 "cells": [
  {
   "cell_type": "code",
   "execution_count": 1,
   "metadata": {},
   "outputs": [],
   "source": [
    "import pandas as pd\n",
    "import numpy as np\n",
    "import zipfile\n",
    "import requests\n",
    "from io import BytesIO\n",
    "import os\n",
    "from sqlalchemy import create_engine\n",
    "import json"
   ]
  },
  {
   "cell_type": "code",
   "execution_count": 2,
   "metadata": {},
   "outputs": [],
   "source": [
    "# Create folder and popule with enem data\n",
    "data_path = './enem2019'\n",
    "if not os.path.exists(data_path):\n",
    "    os.makedirs(data_path)\n",
    "    # Define url\n",
    "    url = 'http://download.inep.gov.br/microdados/microdados_enem_2019.zip'\n",
    "\n",
    "    # Content download\n",
    "    filebytes = BytesIO(\n",
    "        requests.get(url, stream=True).content\n",
    "    )\n",
    "\n",
    "    # Exctract content from zipfile\n",
    "    myzip = zipfile.ZipFile(filebytes)\n",
    "    myzip.extractall(data_path)"
   ]
  },
  {
   "cell_type": "code",
   "execution_count": 3,
   "metadata": {},
   "outputs": [],
   "source": [
    "csv_file = './enem2019/DADOS/MICRODADOS_ENEM_2019.csv'"
   ]
  },
  {
   "cell_type": "code",
   "execution_count": 4,
   "metadata": {},
   "outputs": [],
   "source": [
    "# Create functin that splits csv into multiple csvs\n",
    "# Source code: https://gist.github.com/jrivero/1085501\n",
    "\n",
    "def split(filehandler, delimiter=',', row_limit=1000,\n",
    "          output_name_template='output_%s.csv', output_path='.', keep_headers=True):\n",
    "    import csv\n",
    "    reader = csv.reader(filehandler, delimiter=delimiter)\n",
    "    current_piece = 1\n",
    "    current_out_path = os.path.join(\n",
    "        output_path,\n",
    "        output_name_template % current_piece\n",
    "    )\n",
    "    current_out_writer = csv.writer(open(current_out_path, 'w'), delimiter=delimiter)\n",
    "    current_limit = row_limit\n",
    "    if keep_headers:\n",
    "        headers = next(reader)\n",
    "        current_out_writer.writerow(headers)\n",
    "    for i, row in enumerate(reader):\n",
    "        if i + 1 > current_limit:\n",
    "            current_piece += 1\n",
    "            current_limit = row_limit * current_piece\n",
    "            current_out_path = os.path.join(\n",
    "                output_path,\n",
    "                output_name_template % current_piece\n",
    "            )\n",
    "            current_out_writer = csv.writer(open(current_out_path, 'w'), delimiter=delimiter)\n",
    "            if keep_headers:\n",
    "                current_out_writer.writerow(headers)\n",
    "        current_out_writer.writerow(row)"
   ]
  },
  {
   "cell_type": "code",
   "execution_count": 5,
   "metadata": {},
   "outputs": [],
   "source": [
    "# Split csv into csv files of 'row_number' rows, so creating pandas dataframe is possible.\n",
    "# If there's not much RAM available, consider putting the 'row_number' variable as low as possible.\n",
    "# You can get good result splitting the CSV into files of, for example, 20.000 rows.\n",
    "\n",
    "# In my local computer, splitting it in files of 1 million rows each was good enough, but more than that starts to \n",
    "# overflow my memory when creating pandas dataframe\n",
    "row_number = 1000000\n",
    "\n",
    "split(open(csv_file, encoding='latin-1'), delimiter=';', row_limit=row_number,\n",
    "     output_name_template='microdados_enem_%s.csv', output_path=data_path+'/DADOS/splitted_files', keep_headers=True)"
   ]
  },
  {
   "cell_type": "code",
   "execution_count": 6,
   "metadata": {},
   "outputs": [],
   "source": [
    "# Read each csv into a pandas dataframe, look for SG_UF_RESIDENCIA = 'MG' and replace each csv only with MG data.\n",
    "directory = data_path+'/DADOS/splitted_files/'\n",
    "\n",
    "for filename in sorted(os.listdir(directory)):\n",
    "    df = pd.read_csv(directory+filename, sep = ';', decimal = '.', encoding='latin-1')\n",
    "    df = df.loc[\n",
    "    df.SG_UF_RESIDENCIA == 'MG'\n",
    "    ]\n",
    "    os.remove(directory+filename)\n",
    "    df.to_csv(directory+filename, index=False, sep = ';', decimal = '.', encoding='latin-1')"
   ]
  },
  {
   "cell_type": "code",
   "execution_count": 7,
   "metadata": {},
   "outputs": [],
   "source": [
    "# Get database access variables defined in vaccess_pg\n",
    "with open('vaccess_pg.txt') as access_file:\n",
    "    vaccess = json.load(access_file)"
   ]
  },
  {
   "cell_type": "code",
   "execution_count": 8,
   "metadata": {},
   "outputs": [
    {
     "name": "stdout",
     "output_type": "stream",
     "text": [
      "microdados_enem_1.csv\n",
      "microdados_enem_2.csv\n",
      "microdados_enem_3.csv\n",
      "microdados_enem_4.csv\n",
      "microdados_enem_5.csv\n",
      "microdados_enem_6.csv\n"
     ]
    }
   ],
   "source": [
    "# Connect to database and bulk insert each csv into the table\n",
    "# Adapted from https://www.dataquest.io/blog/loading-data-into-postgres/\n",
    "import psycopg2\n",
    "conn = psycopg2.connect(host=vaccess['host'], dbname=vaccess['dbname'], user=vaccess['user'], password=vaccess['password'])\n",
    "cur = conn.cursor()\n",
    "\n",
    "\n",
    "directory = data_path+'/DADOS/splitted_files/'\n",
    "\n",
    "try:\n",
    "    for filename in sorted(os.listdir(directory)):\n",
    "        print(filename)\n",
    "        if filename.endswith(\".csv\"):\n",
    "            enem = pd.read_csv(\n",
    "                    directory+filename, sep = ';', decimal = '.', encoding='latin-1'\n",
    "            )\n",
    "\n",
    "            with open(directory+filename, 'r') as f:\n",
    "                next(f) \n",
    "                cur.copy_from(f, 'enem', sep=';', null=\"\")\n",
    "\n",
    "            conn.commit()\n",
    "\n",
    "        else:\n",
    "            continue\n",
    "finally:\n",
    "    cur.close()\n",
    "    conn.close()"
   ]
  }
 ],
 "metadata": {
  "kernelspec": {
   "display_name": "Python 3",
   "language": "python",
   "name": "python3"
  },
  "language_info": {
   "codemirror_mode": {
    "name": "ipython",
    "version": 3
   },
   "file_extension": ".py",
   "mimetype": "text/x-python",
   "name": "python",
   "nbconvert_exporter": "python",
   "pygments_lexer": "ipython3",
   "version": "3.8.3"
  }
 },
 "nbformat": 4,
 "nbformat_minor": 4
}
