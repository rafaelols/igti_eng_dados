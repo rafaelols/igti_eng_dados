{
 "cells": [
  {
   "cell_type": "markdown",
   "metadata": {},
   "source": [
    "# Extrai tweets"
   ]
  },
  {
   "cell_type": "code",
   "execution_count": null,
   "metadata": {
    "scrolled": true
   },
   "outputs": [],
   "source": [
    "!python get_tweets.py"
   ]
  },
  {
   "cell_type": "markdown",
   "metadata": {},
   "source": [
    "# Entendendo a estrutura do JSON"
   ]
  },
  {
   "cell_type": "code",
   "execution_count": 30,
   "metadata": {},
   "outputs": [],
   "source": [
    "import json"
   ]
  },
  {
   "cell_type": "code",
   "execution_count": 31,
   "metadata": {},
   "outputs": [],
   "source": [
    "# Abrir o arquivo de tweets e ler as linhas\n",
    "with open('collected_tweets2020-11-22-15-33-21.txt', 'r') as file:\n",
    "    tweets = file.readlines()\n"
   ]
  },
  {
   "cell_type": "code",
   "execution_count": 32,
   "metadata": {},
   "outputs": [],
   "source": [
    "# Parse do tweet para json e exporta arquivo\n",
    "with open('tweet.json', 'w') as json_file:\n",
    "    json.dump(\n",
    "        json.loads(\n",
    "            json.loads(tweets[0])\n",
    "        ), json_file\n",
    "    )"
   ]
  },
  {
   "cell_type": "code",
   "execution_count": 33,
   "metadata": {},
   "outputs": [],
   "source": [
    "parsed_tweets = [json.loads(json.loads(i)) for i in tweets]"
   ]
  },
  {
   "cell_type": "code",
   "execution_count": 34,
   "metadata": {},
   "outputs": [
    {
     "data": {
      "text/plain": [
       "3493"
      ]
     },
     "execution_count": 34,
     "metadata": {},
     "output_type": "execute_result"
    }
   ],
   "source": [
    "# quantidade de tweets coletados\n",
    "len(parsed_tweets)"
   ]
  },
  {
   "cell_type": "markdown",
   "metadata": {},
   "source": [
    "# Acessando as chaves do JSON"
   ]
  },
  {
   "cell_type": "code",
   "execution_count": 35,
   "metadata": {},
   "outputs": [],
   "source": [
    "first_tweet = parsed_tweets[0]"
   ]
  },
  {
   "cell_type": "code",
   "execution_count": 36,
   "metadata": {},
   "outputs": [
    {
     "data": {
      "text/plain": [
       "'Stay in president Trump let the constitution fairly pick president'"
      ]
     },
     "execution_count": 36,
     "metadata": {},
     "output_type": "execute_result"
    }
   ],
   "source": [
    "# Chave de primeiro nivel (root)\n",
    "first_tweet['text']"
   ]
  },
  {
   "cell_type": "code",
   "execution_count": 37,
   "metadata": {},
   "outputs": [
    {
     "data": {
      "text/plain": [
       "'eddiefisher357'"
      ]
     },
     "execution_count": 37,
     "metadata": {},
     "output_type": "execute_result"
    }
   ],
   "source": [
    "# Cessando o scren_name do user\n",
    "first_tweet['user']['screen_name']"
   ]
  },
  {
   "cell_type": "markdown",
   "metadata": {},
   "source": [
    "# Transformar os tweets em uma estrutura relacional"
   ]
  },
  {
   "cell_type": "code",
   "execution_count": 38,
   "metadata": {},
   "outputs": [],
   "source": [
    "import pandas as pd"
   ]
  },
  {
   "cell_type": "code",
   "execution_count": 39,
   "metadata": {},
   "outputs": [
    {
     "data": {
      "text/html": [
       "<div>\n",
       "<style scoped>\n",
       "    .dataframe tbody tr th:only-of-type {\n",
       "        vertical-align: middle;\n",
       "    }\n",
       "\n",
       "    .dataframe tbody tr th {\n",
       "        vertical-align: top;\n",
       "    }\n",
       "\n",
       "    .dataframe thead th {\n",
       "        text-align: right;\n",
       "    }\n",
       "</style>\n",
       "<table border=\"1\" class=\"dataframe\">\n",
       "  <thead>\n",
       "    <tr style=\"text-align: right;\">\n",
       "      <th></th>\n",
       "      <th>created_at</th>\n",
       "      <th>id</th>\n",
       "      <th>id_str</th>\n",
       "      <th>text</th>\n",
       "      <th>source</th>\n",
       "      <th>truncated</th>\n",
       "      <th>in_reply_to_status_id</th>\n",
       "      <th>in_reply_to_status_id_str</th>\n",
       "      <th>in_reply_to_user_id</th>\n",
       "      <th>in_reply_to_user_id_str</th>\n",
       "      <th>...</th>\n",
       "      <th>quote_count</th>\n",
       "      <th>reply_count</th>\n",
       "      <th>retweet_count</th>\n",
       "      <th>favorite_count</th>\n",
       "      <th>entities</th>\n",
       "      <th>favorited</th>\n",
       "      <th>retweeted</th>\n",
       "      <th>filter_level</th>\n",
       "      <th>lang</th>\n",
       "      <th>timestamp_ms</th>\n",
       "    </tr>\n",
       "  </thead>\n",
       "  <tbody>\n",
       "    <tr>\n",
       "      <th>0</th>\n",
       "      <td>Sun Nov 22 18:33:17 +0000 2020</td>\n",
       "      <td>1330580125314904068</td>\n",
       "      <td>1330580125314904068</td>\n",
       "      <td>Stay in president Trump let the constitution f...</td>\n",
       "      <td>&lt;a href=\"http://twitter.com/download/iphone\" r...</td>\n",
       "      <td>False</td>\n",
       "      <td>None</td>\n",
       "      <td>None</td>\n",
       "      <td>None</td>\n",
       "      <td>None</td>\n",
       "      <td>...</td>\n",
       "      <td>0</td>\n",
       "      <td>0</td>\n",
       "      <td>0</td>\n",
       "      <td>0</td>\n",
       "      <td>NaN</td>\n",
       "      <td>False</td>\n",
       "      <td>False</td>\n",
       "      <td>low</td>\n",
       "      <td>en</td>\n",
       "      <td>1606069997515</td>\n",
       "    </tr>\n",
       "  </tbody>\n",
       "</table>\n",
       "<p>1 rows × 31 columns</p>\n",
       "</div>"
      ],
      "text/plain": [
       "                       created_at                   id               id_str  \\\n",
       "0  Sun Nov 22 18:33:17 +0000 2020  1330580125314904068  1330580125314904068   \n",
       "\n",
       "                                                text  \\\n",
       "0  Stay in president Trump let the constitution f...   \n",
       "\n",
       "                                              source  truncated  \\\n",
       "0  <a href=\"http://twitter.com/download/iphone\" r...      False   \n",
       "\n",
       "  in_reply_to_status_id in_reply_to_status_id_str in_reply_to_user_id  \\\n",
       "0                  None                      None                None   \n",
       "\n",
       "  in_reply_to_user_id_str  ... quote_count reply_count retweet_count  \\\n",
       "0                    None  ...           0           0             0   \n",
       "\n",
       "  favorite_count entities favorited  retweeted filter_level lang  \\\n",
       "0              0      NaN     False      False          low   en   \n",
       "\n",
       "    timestamp_ms  \n",
       "0  1606069997515  \n",
       "\n",
       "[1 rows x 31 columns]"
      ]
     },
     "execution_count": 39,
     "metadata": {},
     "output_type": "execute_result"
    }
   ],
   "source": [
    "df_tratado = pd.DataFrame(first_tweet).reset_index(drop=True).iloc[:1]\n",
    "df_tratado"
   ]
  },
  {
   "cell_type": "code",
   "execution_count": 40,
   "metadata": {},
   "outputs": [
    {
     "data": {
      "text/plain": [
       "Index(['created_at', 'id', 'id_str', 'text', 'source', 'truncated',\n",
       "       'in_reply_to_status_id', 'in_reply_to_status_id_str',\n",
       "       'in_reply_to_user_id', 'in_reply_to_user_id_str',\n",
       "       'in_reply_to_screen_name', 'user', 'geo', 'coordinates', 'place',\n",
       "       'contributors', 'quoted_status_id', 'quoted_status_id_str',\n",
       "       'quoted_status', 'quoted_status_permalink', 'is_quote_status',\n",
       "       'quote_count', 'reply_count', 'retweet_count', 'favorite_count',\n",
       "       'entities', 'favorited', 'retweeted', 'filter_level', 'lang',\n",
       "       'timestamp_ms'],\n",
       "      dtype='object')"
      ]
     },
     "execution_count": 40,
     "metadata": {},
     "output_type": "execute_result"
    }
   ],
   "source": [
    "df_tratado.columns"
   ]
  },
  {
   "cell_type": "code",
   "execution_count": 41,
   "metadata": {},
   "outputs": [],
   "source": [
    "df_tratado.drop(columns =['quote_count' , 'reply_count', 'retweet_count', 'favorite_count',\n",
    "                         'favorited', 'retweeted', 'user', 'entities'], inplace=True)"
   ]
  },
  {
   "cell_type": "code",
   "execution_count": 42,
   "metadata": {},
   "outputs": [
    {
     "data": {
      "text/plain": [
       "Index(['created_at', 'id', 'id_str', 'text', 'source', 'truncated',\n",
       "       'in_reply_to_status_id', 'in_reply_to_status_id_str',\n",
       "       'in_reply_to_user_id', 'in_reply_to_user_id_str',\n",
       "       'in_reply_to_screen_name', 'geo', 'coordinates', 'place',\n",
       "       'contributors', 'quoted_status_id', 'quoted_status_id_str',\n",
       "       'quoted_status', 'quoted_status_permalink', 'is_quote_status',\n",
       "       'filter_level', 'lang', 'timestamp_ms'],\n",
       "      dtype='object')"
      ]
     },
     "execution_count": 42,
     "metadata": {},
     "output_type": "execute_result"
    }
   ],
   "source": [
    "df_tratado.columns"
   ]
  },
  {
   "cell_type": "code",
   "execution_count": 43,
   "metadata": {},
   "outputs": [
    {
     "data": {
      "text/plain": [
       "{'id': 1014279595787464706,\n",
       " 'id_str': '1014279595787464706',\n",
       " 'name': 'Eddie Fisher',\n",
       " 'screen_name': 'eddiefisher357',\n",
       " 'location': 'Denison, TX',\n",
       " 'url': None,\n",
       " 'description': 'Texas',\n",
       " 'translator_type': 'none',\n",
       " 'protected': False,\n",
       " 'verified': False,\n",
       " 'followers_count': 35,\n",
       " 'friends_count': 88,\n",
       " 'listed_count': 0,\n",
       " 'favourites_count': 5393,\n",
       " 'statuses_count': 4202,\n",
       " 'created_at': 'Tue Jul 03 22:47:54 +0000 2018',\n",
       " 'utc_offset': None,\n",
       " 'time_zone': None,\n",
       " 'geo_enabled': True,\n",
       " 'lang': None,\n",
       " 'contributors_enabled': False,\n",
       " 'is_translator': False,\n",
       " 'profile_background_color': '000000',\n",
       " 'profile_background_image_url': 'http://abs.twimg.com/images/themes/theme1/bg.png',\n",
       " 'profile_background_image_url_https': 'https://abs.twimg.com/images/themes/theme1/bg.png',\n",
       " 'profile_background_tile': False,\n",
       " 'profile_link_color': '1B95E0',\n",
       " 'profile_sidebar_border_color': '000000',\n",
       " 'profile_sidebar_fill_color': '000000',\n",
       " 'profile_text_color': '000000',\n",
       " 'profile_use_background_image': False,\n",
       " 'profile_image_url': 'http://pbs.twimg.com/profile_images/1014321000404488192/F2ruyH-a_normal.jpg',\n",
       " 'profile_image_url_https': 'https://pbs.twimg.com/profile_images/1014321000404488192/F2ruyH-a_normal.jpg',\n",
       " 'profile_banner_url': 'https://pbs.twimg.com/profile_banners/1014279595787464706/1530658313',\n",
       " 'default_profile': False,\n",
       " 'default_profile_image': False,\n",
       " 'following': None,\n",
       " 'follow_request_sent': None,\n",
       " 'notifications': None}"
      ]
     },
     "execution_count": 43,
     "metadata": {},
     "output_type": "execute_result"
    }
   ],
   "source": [
    "first_tweet['user']"
   ]
  },
  {
   "cell_type": "code",
   "execution_count": 44,
   "metadata": {},
   "outputs": [],
   "source": [
    "df_tratado['user_id'] = first_tweet['user']['id']\n",
    "df_tratado['user_id_str'] = first_tweet['user']['id_str']\n",
    "df_tratado['user_screen_name'] = first_tweet['user']['screen_name']\n",
    "df_tratado['user_location'] = first_tweet['user']['location']\n",
    "df_tratado['user_description'] = first_tweet['user']['description']\n",
    "df_tratado['user_protected'] = first_tweet['user']['protected']\n",
    "df_tratado['user_verified'] = first_tweet['user']['verified']\n",
    "df_tratado['user_followers_count'] = first_tweet['user']['followers_count']\n",
    "df_tratado['user_friends_count'] = first_tweet['user']['friends_count']\n",
    "df_tratado['user_created_at'] = first_tweet['user']['created_at']\n"
   ]
  },
  {
   "cell_type": "code",
   "execution_count": 45,
   "metadata": {},
   "outputs": [
    {
     "data": {
      "text/html": [
       "<div>\n",
       "<style scoped>\n",
       "    .dataframe tbody tr th:only-of-type {\n",
       "        vertical-align: middle;\n",
       "    }\n",
       "\n",
       "    .dataframe tbody tr th {\n",
       "        vertical-align: top;\n",
       "    }\n",
       "\n",
       "    .dataframe thead th {\n",
       "        text-align: right;\n",
       "    }\n",
       "</style>\n",
       "<table border=\"1\" class=\"dataframe\">\n",
       "  <thead>\n",
       "    <tr style=\"text-align: right;\">\n",
       "      <th></th>\n",
       "      <th>created_at</th>\n",
       "      <th>id</th>\n",
       "      <th>id_str</th>\n",
       "      <th>text</th>\n",
       "      <th>source</th>\n",
       "      <th>truncated</th>\n",
       "      <th>in_reply_to_status_id</th>\n",
       "      <th>in_reply_to_status_id_str</th>\n",
       "      <th>in_reply_to_user_id</th>\n",
       "      <th>in_reply_to_user_id_str</th>\n",
       "      <th>...</th>\n",
       "      <th>user_id</th>\n",
       "      <th>user_id_str</th>\n",
       "      <th>user_screen_name</th>\n",
       "      <th>user_location</th>\n",
       "      <th>user_description</th>\n",
       "      <th>user_protected</th>\n",
       "      <th>user_verified</th>\n",
       "      <th>user_followers_count</th>\n",
       "      <th>user_friends_count</th>\n",
       "      <th>user_created_at</th>\n",
       "    </tr>\n",
       "  </thead>\n",
       "  <tbody>\n",
       "    <tr>\n",
       "      <th>0</th>\n",
       "      <td>Sun Nov 22 18:33:17 +0000 2020</td>\n",
       "      <td>1330580125314904068</td>\n",
       "      <td>1330580125314904068</td>\n",
       "      <td>Stay in president Trump let the constitution f...</td>\n",
       "      <td>&lt;a href=\"http://twitter.com/download/iphone\" r...</td>\n",
       "      <td>False</td>\n",
       "      <td>None</td>\n",
       "      <td>None</td>\n",
       "      <td>None</td>\n",
       "      <td>None</td>\n",
       "      <td>...</td>\n",
       "      <td>1014279595787464706</td>\n",
       "      <td>1014279595787464706</td>\n",
       "      <td>eddiefisher357</td>\n",
       "      <td>Denison, TX</td>\n",
       "      <td>Texas</td>\n",
       "      <td>False</td>\n",
       "      <td>False</td>\n",
       "      <td>35</td>\n",
       "      <td>88</td>\n",
       "      <td>Tue Jul 03 22:47:54 +0000 2018</td>\n",
       "    </tr>\n",
       "  </tbody>\n",
       "</table>\n",
       "<p>1 rows × 33 columns</p>\n",
       "</div>"
      ],
      "text/plain": [
       "                       created_at                   id               id_str  \\\n",
       "0  Sun Nov 22 18:33:17 +0000 2020  1330580125314904068  1330580125314904068   \n",
       "\n",
       "                                                text  \\\n",
       "0  Stay in president Trump let the constitution f...   \n",
       "\n",
       "                                              source  truncated  \\\n",
       "0  <a href=\"http://twitter.com/download/iphone\" r...      False   \n",
       "\n",
       "  in_reply_to_status_id in_reply_to_status_id_str in_reply_to_user_id  \\\n",
       "0                  None                      None                None   \n",
       "\n",
       "  in_reply_to_user_id_str  ...              user_id          user_id_str  \\\n",
       "0                    None  ...  1014279595787464706  1014279595787464706   \n",
       "\n",
       "  user_screen_name user_location user_description  user_protected  \\\n",
       "0   eddiefisher357   Denison, TX            Texas           False   \n",
       "\n",
       "  user_verified user_followers_count user_friends_count  \\\n",
       "0         False                   35                 88   \n",
       "\n",
       "                  user_created_at  \n",
       "0  Tue Jul 03 22:47:54 +0000 2018  \n",
       "\n",
       "[1 rows x 33 columns]"
      ]
     },
     "execution_count": 45,
     "metadata": {},
     "output_type": "execute_result"
    }
   ],
   "source": [
    "df_tratado"
   ]
  },
  {
   "cell_type": "code",
   "execution_count": 46,
   "metadata": {},
   "outputs": [
    {
     "data": {
      "text/plain": [
       "{'hashtags': [], 'urls': [], 'user_mentions': [], 'symbols': []}"
      ]
     },
     "execution_count": 46,
     "metadata": {},
     "output_type": "execute_result"
    }
   ],
   "source": [
    "# Entidades\n",
    "first_tweet['entities']"
   ]
  },
  {
   "cell_type": "code",
   "execution_count": 47,
   "metadata": {},
   "outputs": [],
   "source": [
    "user_mentions = []\n",
    "\n",
    "for i in range(len(first_tweet['entities'][ 'user_mentions'])):\n",
    "    dicionariobase = first_tweet['entities']['user_mentions'][i].copy()\n",
    "    dicionariobase.pop('indices', None)\n",
    "    df = pd.DataFrame(dicionariobase, index=[0])\n",
    "    df=df.rename(columns={\n",
    "        'screen_name': 'entities_screen_name',\n",
    "        'name': 'entities_id',\n",
    "        'id_str': 'entities_id_str'\n",
    "    })\n",
    "    user_mentions.append(df)"
   ]
  },
  {
   "cell_type": "code",
   "execution_count": 48,
   "metadata": {},
   "outputs": [],
   "source": [
    "if len(user_mentions) > 0:\n",
    "    dfs = []\n",
    "    for i in user_mentions:\n",
    "        dfs.append(\n",
    "            pd.concat([df_tratado.copy(), i], axis = 1)\n",
    "        )\n",
    "    pd.concat(dfs, ignore_index=True)"
   ]
  },
  {
   "cell_type": "markdown",
   "metadata": {},
   "source": [
    "Criar função que faz todo o tratamento do tweet e converte para um DF"
   ]
  },
  {
   "cell_type": "code",
   "execution_count": 49,
   "metadata": {},
   "outputs": [],
   "source": [
    "def tweet_para_df(tweet):\n",
    "\n",
    "    try:\n",
    "\n",
    "        df_tratado = pd.DataFrame(tweet).reset_index(drop=True).iloc[:1]\n",
    "\n",
    "        df_tratado.drop(columns =['quote_count', 'reply_count', 'retweet_count', 'favorite_count', 'favorited', 'retweeted', 'user', 'entities', 'retweeted_status'], inplace=True)\n",
    "\n",
    "\n",
    "\n",
    "        df_tratado['user_id'] = tweet['user']['id']\n",
    "        df_tratado['user_id_str'] = tweet['user']['id_str']\n",
    "        df_tratado['user_screen_name'] = tweet['user']['screen_name']\n",
    "        df_tratado['user_location'] = tweet['user']['location']\n",
    "        df_tratado['user_description'] = tweet['user']['description']\n",
    "        df_tratado['user_protected'] = tweet['user']['protected']\n",
    "        df_tratado['user_verified'] = tweet['user']['verified']\n",
    "        df_tratado['user_followers_count'] = tweet['user']['followers_count']\n",
    "        df_tratado['user_friends_count'] = tweet['user']['friends_count']\n",
    "        df_tratado['user_created_at'] = tweet['user']['created_at']\n",
    "\n",
    "        user_mentions = []\n",
    "\n",
    "        for i in range(len(tweet['entities'][ 'user_mentions'])):\n",
    "            dicionariobase = tweet['entities']['user_mentions'][i].copy()\n",
    "            dicionariobase.pop('indices', None)\n",
    "            df = pd.DataFrame(dicionariobase, index=[0])\n",
    "            df=df.rename(columns={\n",
    "                'screen_name': 'entities_screen_name',\n",
    "                'name': 'entities_name',\n",
    "                'id': 'entities_id',\n",
    "                'id_str': 'entities_id_str'\n",
    "            })\n",
    "            user_mentions.append(df)\n",
    "\n",
    "        dfs = []\n",
    "        for i in user_mentions:\n",
    "            dfs.append(\n",
    "                pd.concat([df_tratado.copy(), i], axis = 1)\n",
    "            )\n",
    "\n",
    "        df_final = pd.concat(dfs, ignore_index=True)\n",
    "        \n",
    "    except:\n",
    "        return None\n",
    "\n",
    "    return df_final\n"
   ]
  },
  {
   "cell_type": "code",
   "execution_count": 50,
   "metadata": {},
   "outputs": [
    {
     "name": "stdout",
     "output_type": "stream",
     "text": [
      "CPU times: user 29.9 s, sys: 268 µs, total: 29.9 s\n",
      "Wall time: 29.9 s\n"
     ]
    }
   ],
   "source": [
    "%%time\n",
    "# Iterar e transformar todos os tweets\n",
    "\n",
    "parseados = [tweet_para_df(tweet) for tweet in parsed_tweets]"
   ]
  },
  {
   "cell_type": "code",
   "execution_count": 51,
   "metadata": {},
   "outputs": [],
   "source": [
    "# Eliminar as posições vazias da lista\n",
    "parseados = [i for i in parseados if (i is not None) ]"
   ]
  },
  {
   "cell_type": "code",
   "execution_count": 54,
   "metadata": {},
   "outputs": [],
   "source": [
    "tratado = pd.concat(parseados, ignore_index=True)"
   ]
  },
  {
   "cell_type": "code",
   "execution_count": 55,
   "metadata": {},
   "outputs": [
    {
     "data": {
      "text/html": [
       "<div>\n",
       "<style scoped>\n",
       "    .dataframe tbody tr th:only-of-type {\n",
       "        vertical-align: middle;\n",
       "    }\n",
       "\n",
       "    .dataframe tbody tr th {\n",
       "        vertical-align: top;\n",
       "    }\n",
       "\n",
       "    .dataframe thead th {\n",
       "        text-align: right;\n",
       "    }\n",
       "</style>\n",
       "<table border=\"1\" class=\"dataframe\">\n",
       "  <thead>\n",
       "    <tr style=\"text-align: right;\">\n",
       "      <th></th>\n",
       "      <th>created_at</th>\n",
       "      <th>id</th>\n",
       "      <th>id_str</th>\n",
       "      <th>text</th>\n",
       "      <th>source</th>\n",
       "      <th>truncated</th>\n",
       "      <th>in_reply_to_status_id</th>\n",
       "      <th>in_reply_to_status_id_str</th>\n",
       "      <th>in_reply_to_user_id</th>\n",
       "      <th>in_reply_to_user_id_str</th>\n",
       "      <th>...</th>\n",
       "      <th>entities_screen_name</th>\n",
       "      <th>entities_name</th>\n",
       "      <th>entities_id</th>\n",
       "      <th>entities_id_str</th>\n",
       "      <th>possibly_sensitive</th>\n",
       "      <th>quoted_status_id</th>\n",
       "      <th>quoted_status_id_str</th>\n",
       "      <th>quoted_status</th>\n",
       "      <th>quoted_status_permalink</th>\n",
       "      <th>extended_entities</th>\n",
       "    </tr>\n",
       "  </thead>\n",
       "  <tbody>\n",
       "    <tr>\n",
       "      <th>0</th>\n",
       "      <td>Sun Nov 22 18:33:17 +0000 2020</td>\n",
       "      <td>1330580125474316298</td>\n",
       "      <td>1330580125474316298</td>\n",
       "      <td>RT @TheRightMelissa: Stop listening to the pro...</td>\n",
       "      <td>&lt;a href=\"http://twitter.com/download/android\" ...</td>\n",
       "      <td>False</td>\n",
       "      <td>None</td>\n",
       "      <td>None</td>\n",
       "      <td>None</td>\n",
       "      <td>None</td>\n",
       "      <td>...</td>\n",
       "      <td>TheRightMelissa</td>\n",
       "      <td>Melissa Tate #StopTheSteal</td>\n",
       "      <td>762389795037294592</td>\n",
       "      <td>762389795037294592</td>\n",
       "      <td>NaN</td>\n",
       "      <td>NaN</td>\n",
       "      <td>NaN</td>\n",
       "      <td>NaN</td>\n",
       "      <td>NaN</td>\n",
       "      <td>NaN</td>\n",
       "    </tr>\n",
       "    <tr>\n",
       "      <th>1</th>\n",
       "      <td>Sun Nov 22 18:33:17 +0000 2020</td>\n",
       "      <td>1330580125562400768</td>\n",
       "      <td>1330580125562400768</td>\n",
       "      <td>RT @LLinWood: Another long but productive day....</td>\n",
       "      <td>&lt;a href=\"https://mobile.twitter.com\" rel=\"nofo...</td>\n",
       "      <td>False</td>\n",
       "      <td>None</td>\n",
       "      <td>None</td>\n",
       "      <td>None</td>\n",
       "      <td>None</td>\n",
       "      <td>...</td>\n",
       "      <td>LLinWood</td>\n",
       "      <td>Lin Wood</td>\n",
       "      <td>187680645</td>\n",
       "      <td>187680645</td>\n",
       "      <td>NaN</td>\n",
       "      <td>NaN</td>\n",
       "      <td>NaN</td>\n",
       "      <td>NaN</td>\n",
       "      <td>NaN</td>\n",
       "      <td>NaN</td>\n",
       "    </tr>\n",
       "    <tr>\n",
       "      <th>2</th>\n",
       "      <td>Sun Nov 22 18:33:17 +0000 2020</td>\n",
       "      <td>1330580125562400768</td>\n",
       "      <td>1330580125562400768</td>\n",
       "      <td>RT @LLinWood: Another long but productive day....</td>\n",
       "      <td>&lt;a href=\"https://mobile.twitter.com\" rel=\"nofo...</td>\n",
       "      <td>False</td>\n",
       "      <td>None</td>\n",
       "      <td>None</td>\n",
       "      <td>None</td>\n",
       "      <td>None</td>\n",
       "      <td>...</td>\n",
       "      <td>SidneyPowell1</td>\n",
       "      <td>Sidney Powell 🇺🇸⭐⭐⭐</td>\n",
       "      <td>586707638</td>\n",
       "      <td>586707638</td>\n",
       "      <td>NaN</td>\n",
       "      <td>NaN</td>\n",
       "      <td>NaN</td>\n",
       "      <td>NaN</td>\n",
       "      <td>NaN</td>\n",
       "      <td>NaN</td>\n",
       "    </tr>\n",
       "    <tr>\n",
       "      <th>3</th>\n",
       "      <td>Sun Nov 22 18:33:17 +0000 2020</td>\n",
       "      <td>1330580125751136256</td>\n",
       "      <td>1330580125751136256</td>\n",
       "      <td>RT @marklevinshow: This is superb\\nhttps://t.c...</td>\n",
       "      <td>&lt;a href=\"http://twitter.com/download/iphone\" r...</td>\n",
       "      <td>False</td>\n",
       "      <td>None</td>\n",
       "      <td>None</td>\n",
       "      <td>None</td>\n",
       "      <td>None</td>\n",
       "      <td>...</td>\n",
       "      <td>marklevinshow</td>\n",
       "      <td>Mark R. Levin</td>\n",
       "      <td>38495835</td>\n",
       "      <td>38495835</td>\n",
       "      <td>False</td>\n",
       "      <td>NaN</td>\n",
       "      <td>NaN</td>\n",
       "      <td>NaN</td>\n",
       "      <td>NaN</td>\n",
       "      <td>NaN</td>\n",
       "    </tr>\n",
       "    <tr>\n",
       "      <th>4</th>\n",
       "      <td>Sun Nov 22 18:33:17 +0000 2020</td>\n",
       "      <td>1330580125746925569</td>\n",
       "      <td>1330580125746925569</td>\n",
       "      <td>RT @allanldsantos: O @UOLNoticias gosta mesmo ...</td>\n",
       "      <td>&lt;a href=\"http://twitter.com/download/iphone\" r...</td>\n",
       "      <td>False</td>\n",
       "      <td>None</td>\n",
       "      <td>None</td>\n",
       "      <td>None</td>\n",
       "      <td>None</td>\n",
       "      <td>...</td>\n",
       "      <td>allanldsantos</td>\n",
       "      <td>Allan Dos Santos</td>\n",
       "      <td>52048790</td>\n",
       "      <td>52048790</td>\n",
       "      <td>True</td>\n",
       "      <td>1.330092e+18</td>\n",
       "      <td>1330092344708894721</td>\n",
       "      <td>1330092344708894721</td>\n",
       "      <td>NaN</td>\n",
       "      <td>NaN</td>\n",
       "    </tr>\n",
       "    <tr>\n",
       "      <th>...</th>\n",
       "      <td>...</td>\n",
       "      <td>...</td>\n",
       "      <td>...</td>\n",
       "      <td>...</td>\n",
       "      <td>...</td>\n",
       "      <td>...</td>\n",
       "      <td>...</td>\n",
       "      <td>...</td>\n",
       "      <td>...</td>\n",
       "      <td>...</td>\n",
       "      <td>...</td>\n",
       "      <td>...</td>\n",
       "      <td>...</td>\n",
       "      <td>...</td>\n",
       "      <td>...</td>\n",
       "      <td>...</td>\n",
       "      <td>...</td>\n",
       "      <td>...</td>\n",
       "      <td>...</td>\n",
       "      <td>...</td>\n",
       "      <td>...</td>\n",
       "    </tr>\n",
       "    <tr>\n",
       "      <th>2880</th>\n",
       "      <td>Sun Nov 22 18:34:25 +0000 2020</td>\n",
       "      <td>1330580411928506369</td>\n",
       "      <td>1330580411928506369</td>\n",
       "      <td>RT @SethAbramson: It astonishes me daily how j...</td>\n",
       "      <td>&lt;a href=\"http://twitter.com/download/android\" ...</td>\n",
       "      <td>False</td>\n",
       "      <td>None</td>\n",
       "      <td>None</td>\n",
       "      <td>None</td>\n",
       "      <td>None</td>\n",
       "      <td>...</td>\n",
       "      <td>SethAbramson</td>\n",
       "      <td>Seth Abramson</td>\n",
       "      <td>3223426134</td>\n",
       "      <td>3223426134</td>\n",
       "      <td>NaN</td>\n",
       "      <td>NaN</td>\n",
       "      <td>NaN</td>\n",
       "      <td>NaN</td>\n",
       "      <td>NaN</td>\n",
       "      <td>NaN</td>\n",
       "    </tr>\n",
       "    <tr>\n",
       "      <th>2881</th>\n",
       "      <td>Sun Nov 22 18:34:25 +0000 2020</td>\n",
       "      <td>1330580412461101056</td>\n",
       "      <td>1330580412461101056</td>\n",
       "      <td>RT @FPWellman: Man...Trump’s lawyers suck. The...</td>\n",
       "      <td>&lt;a href=\"http://twitter.com/download/android\" ...</td>\n",
       "      <td>False</td>\n",
       "      <td>None</td>\n",
       "      <td>None</td>\n",
       "      <td>None</td>\n",
       "      <td>None</td>\n",
       "      <td>...</td>\n",
       "      <td>FPWellman</td>\n",
       "      <td>Fred Wellman</td>\n",
       "      <td>42518865</td>\n",
       "      <td>42518865</td>\n",
       "      <td>NaN</td>\n",
       "      <td>NaN</td>\n",
       "      <td>NaN</td>\n",
       "      <td>NaN</td>\n",
       "      <td>NaN</td>\n",
       "      <td>NaN</td>\n",
       "    </tr>\n",
       "    <tr>\n",
       "      <th>2882</th>\n",
       "      <td>Sun Nov 22 18:34:25 +0000 2020</td>\n",
       "      <td>1330580412498907143</td>\n",
       "      <td>1330580412498907143</td>\n",
       "      <td>RT @GalacticRedPill: Paul Ryan left office in ...</td>\n",
       "      <td>&lt;a href=\"http://twitter.com/#!/download/ipad\" ...</td>\n",
       "      <td>False</td>\n",
       "      <td>None</td>\n",
       "      <td>None</td>\n",
       "      <td>None</td>\n",
       "      <td>None</td>\n",
       "      <td>...</td>\n",
       "      <td>GalacticRedPill</td>\n",
       "      <td>GalacticRedPill</td>\n",
       "      <td>930233510165491712</td>\n",
       "      <td>930233510165491712</td>\n",
       "      <td>NaN</td>\n",
       "      <td>1.330568e+18</td>\n",
       "      <td>1330567847504994304</td>\n",
       "      <td>1330567847504994304</td>\n",
       "      <td>NaN</td>\n",
       "      <td>NaN</td>\n",
       "    </tr>\n",
       "    <tr>\n",
       "      <th>2883</th>\n",
       "      <td>Sun Nov 22 18:34:26 +0000 2020</td>\n",
       "      <td>1330580413027393536</td>\n",
       "      <td>1330580413027393536</td>\n",
       "      <td>RT @tribelaw: “The stakes of prosecuting Donal...</td>\n",
       "      <td>&lt;a href=\"http://twitter.com/download/iphone\" r...</td>\n",
       "      <td>False</td>\n",
       "      <td>None</td>\n",
       "      <td>None</td>\n",
       "      <td>None</td>\n",
       "      <td>None</td>\n",
       "      <td>...</td>\n",
       "      <td>tribelaw</td>\n",
       "      <td>Laurence Tribe</td>\n",
       "      <td>4091551984</td>\n",
       "      <td>4091551984</td>\n",
       "      <td>NaN</td>\n",
       "      <td>NaN</td>\n",
       "      <td>NaN</td>\n",
       "      <td>NaN</td>\n",
       "      <td>NaN</td>\n",
       "      <td>NaN</td>\n",
       "    </tr>\n",
       "    <tr>\n",
       "      <th>2884</th>\n",
       "      <td>Sun Nov 22 18:34:26 +0000 2020</td>\n",
       "      <td>1330580413132271621</td>\n",
       "      <td>1330580413132271621</td>\n",
       "      <td>RT @Lrihendry: I’m 100% confident Democrats us...</td>\n",
       "      <td>&lt;a href=\"https://mobile.twitter.com\" rel=\"nofo...</td>\n",
       "      <td>False</td>\n",
       "      <td>None</td>\n",
       "      <td>None</td>\n",
       "      <td>None</td>\n",
       "      <td>None</td>\n",
       "      <td>...</td>\n",
       "      <td>Lrihendry</td>\n",
       "      <td>LORI HENDRY STOP THE STEAL</td>\n",
       "      <td>129235890</td>\n",
       "      <td>129235890</td>\n",
       "      <td>NaN</td>\n",
       "      <td>NaN</td>\n",
       "      <td>NaN</td>\n",
       "      <td>NaN</td>\n",
       "      <td>NaN</td>\n",
       "      <td>NaN</td>\n",
       "    </tr>\n",
       "  </tbody>\n",
       "</table>\n",
       "<p>2885 rows × 39 columns</p>\n",
       "</div>"
      ],
      "text/plain": [
       "                          created_at                   id  \\\n",
       "0     Sun Nov 22 18:33:17 +0000 2020  1330580125474316298   \n",
       "1     Sun Nov 22 18:33:17 +0000 2020  1330580125562400768   \n",
       "2     Sun Nov 22 18:33:17 +0000 2020  1330580125562400768   \n",
       "3     Sun Nov 22 18:33:17 +0000 2020  1330580125751136256   \n",
       "4     Sun Nov 22 18:33:17 +0000 2020  1330580125746925569   \n",
       "...                              ...                  ...   \n",
       "2880  Sun Nov 22 18:34:25 +0000 2020  1330580411928506369   \n",
       "2881  Sun Nov 22 18:34:25 +0000 2020  1330580412461101056   \n",
       "2882  Sun Nov 22 18:34:25 +0000 2020  1330580412498907143   \n",
       "2883  Sun Nov 22 18:34:26 +0000 2020  1330580413027393536   \n",
       "2884  Sun Nov 22 18:34:26 +0000 2020  1330580413132271621   \n",
       "\n",
       "                   id_str                                               text  \\\n",
       "0     1330580125474316298  RT @TheRightMelissa: Stop listening to the pro...   \n",
       "1     1330580125562400768  RT @LLinWood: Another long but productive day....   \n",
       "2     1330580125562400768  RT @LLinWood: Another long but productive day....   \n",
       "3     1330580125751136256  RT @marklevinshow: This is superb\\nhttps://t.c...   \n",
       "4     1330580125746925569  RT @allanldsantos: O @UOLNoticias gosta mesmo ...   \n",
       "...                   ...                                                ...   \n",
       "2880  1330580411928506369  RT @SethAbramson: It astonishes me daily how j...   \n",
       "2881  1330580412461101056  RT @FPWellman: Man...Trump’s lawyers suck. The...   \n",
       "2882  1330580412498907143  RT @GalacticRedPill: Paul Ryan left office in ...   \n",
       "2883  1330580413027393536  RT @tribelaw: “The stakes of prosecuting Donal...   \n",
       "2884  1330580413132271621  RT @Lrihendry: I’m 100% confident Democrats us...   \n",
       "\n",
       "                                                 source  truncated  \\\n",
       "0     <a href=\"http://twitter.com/download/android\" ...      False   \n",
       "1     <a href=\"https://mobile.twitter.com\" rel=\"nofo...      False   \n",
       "2     <a href=\"https://mobile.twitter.com\" rel=\"nofo...      False   \n",
       "3     <a href=\"http://twitter.com/download/iphone\" r...      False   \n",
       "4     <a href=\"http://twitter.com/download/iphone\" r...      False   \n",
       "...                                                 ...        ...   \n",
       "2880  <a href=\"http://twitter.com/download/android\" ...      False   \n",
       "2881  <a href=\"http://twitter.com/download/android\" ...      False   \n",
       "2882  <a href=\"http://twitter.com/#!/download/ipad\" ...      False   \n",
       "2883  <a href=\"http://twitter.com/download/iphone\" r...      False   \n",
       "2884  <a href=\"https://mobile.twitter.com\" rel=\"nofo...      False   \n",
       "\n",
       "     in_reply_to_status_id in_reply_to_status_id_str in_reply_to_user_id  \\\n",
       "0                     None                      None                None   \n",
       "1                     None                      None                None   \n",
       "2                     None                      None                None   \n",
       "3                     None                      None                None   \n",
       "4                     None                      None                None   \n",
       "...                    ...                       ...                 ...   \n",
       "2880                  None                      None                None   \n",
       "2881                  None                      None                None   \n",
       "2882                  None                      None                None   \n",
       "2883                  None                      None                None   \n",
       "2884                  None                      None                None   \n",
       "\n",
       "     in_reply_to_user_id_str  ... entities_screen_name  \\\n",
       "0                       None  ...      TheRightMelissa   \n",
       "1                       None  ...             LLinWood   \n",
       "2                       None  ...        SidneyPowell1   \n",
       "3                       None  ...        marklevinshow   \n",
       "4                       None  ...        allanldsantos   \n",
       "...                      ...  ...                  ...   \n",
       "2880                    None  ...         SethAbramson   \n",
       "2881                    None  ...            FPWellman   \n",
       "2882                    None  ...      GalacticRedPill   \n",
       "2883                    None  ...             tribelaw   \n",
       "2884                    None  ...            Lrihendry   \n",
       "\n",
       "                   entities_name         entities_id     entities_id_str  \\\n",
       "0     Melissa Tate #StopTheSteal  762389795037294592  762389795037294592   \n",
       "1                       Lin Wood           187680645           187680645   \n",
       "2            Sidney Powell 🇺🇸⭐⭐⭐           586707638           586707638   \n",
       "3                  Mark R. Levin            38495835            38495835   \n",
       "4               Allan Dos Santos            52048790            52048790   \n",
       "...                          ...                 ...                 ...   \n",
       "2880               Seth Abramson          3223426134          3223426134   \n",
       "2881                Fred Wellman            42518865            42518865   \n",
       "2882             GalacticRedPill  930233510165491712  930233510165491712   \n",
       "2883              Laurence Tribe          4091551984          4091551984   \n",
       "2884  LORI HENDRY STOP THE STEAL           129235890           129235890   \n",
       "\n",
       "     possibly_sensitive  quoted_status_id quoted_status_id_str  \\\n",
       "0                   NaN               NaN                  NaN   \n",
       "1                   NaN               NaN                  NaN   \n",
       "2                   NaN               NaN                  NaN   \n",
       "3                 False               NaN                  NaN   \n",
       "4                  True      1.330092e+18  1330092344708894721   \n",
       "...                 ...               ...                  ...   \n",
       "2880                NaN               NaN                  NaN   \n",
       "2881                NaN               NaN                  NaN   \n",
       "2882                NaN      1.330568e+18  1330567847504994304   \n",
       "2883                NaN               NaN                  NaN   \n",
       "2884                NaN               NaN                  NaN   \n",
       "\n",
       "            quoted_status quoted_status_permalink  extended_entities  \n",
       "0                     NaN                     NaN                NaN  \n",
       "1                     NaN                     NaN                NaN  \n",
       "2                     NaN                     NaN                NaN  \n",
       "3                     NaN                     NaN                NaN  \n",
       "4     1330092344708894721                     NaN                NaN  \n",
       "...                   ...                     ...                ...  \n",
       "2880                  NaN                     NaN                NaN  \n",
       "2881                  NaN                     NaN                NaN  \n",
       "2882  1330567847504994304                     NaN                NaN  \n",
       "2883                  NaN                     NaN                NaN  \n",
       "2884                  NaN                     NaN                NaN  \n",
       "\n",
       "[2885 rows x 39 columns]"
      ]
     },
     "execution_count": 55,
     "metadata": {},
     "output_type": "execute_result"
    }
   ],
   "source": [
    "tratado"
   ]
  },
  {
   "cell_type": "code",
   "execution_count": 79,
   "metadata": {},
   "outputs": [],
   "source": [
    "# Get database access variables defined in vaccess_pg\n",
    "with open('vaccess_pg.txt') as access_file:\n",
    "    vaccess = json.load(access_file)"
   ]
  },
  {
   "cell_type": "code",
   "execution_count": 80,
   "metadata": {},
   "outputs": [],
   "source": [
    "from sqlalchemy import create_engine"
   ]
  },
  {
   "cell_type": "code",
   "execution_count": 82,
   "metadata": {},
   "outputs": [],
   "source": [
    "#Create connection\n",
    "conn_str = 'postgresql+psycopg2://'+vaccess['user']+':'+vaccess['password']+'@'+vaccess['host']+':'+str(vaccess['port'])+'/'+vaccess['dbname']\n",
    "engine_pg = create_engine(conn_str)"
   ]
  },
  {
   "cell_type": "code",
   "execution_count": 84,
   "metadata": {},
   "outputs": [],
   "source": [
    "# ingestão\n",
    "\n",
    "tratado.to_sql('tweets',\n",
    "               con = engine_pg,\n",
    "               schema = 'twitter',\n",
    "               index=False,\n",
    "               if_exists='append')"
   ]
  }
 ],
 "metadata": {
  "kernelspec": {
   "display_name": "Python 3",
   "language": "python",
   "name": "python3"
  },
  "language_info": {
   "codemirror_mode": {
    "name": "ipython",
    "version": 3
   },
   "file_extension": ".py",
   "mimetype": "text/x-python",
   "name": "python",
   "nbconvert_exporter": "python",
   "pygments_lexer": "ipython3",
   "version": "3.8.3"
  }
 },
 "nbformat": 4,
 "nbformat_minor": 4
}
